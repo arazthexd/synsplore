{
 "cells": [
  {
   "cell_type": "code",
   "execution_count": 1,
   "id": "8733258a",
   "metadata": {},
   "outputs": [
    {
     "data": {
      "application/vnd.jupyter.widget-view+json": {
       "model_id": "34ad5b51683e40f5ba03b12befe28490",
       "version_major": 2,
       "version_minor": 0
      },
      "text/plain": []
     },
     "metadata": {},
     "output_type": "display_data"
    }
   ],
   "source": [
    "from synsplore.dataset import SynsploreDataset\n",
    "\n",
    "dataset = SynsploreDataset('../out/routes.pkl', '../out/pharms.pkl')"
   ]
  },
  {
   "cell_type": "code",
   "execution_count": 12,
   "id": "27fded29",
   "metadata": {},
   "outputs": [
    {
     "data": {
      "text/plain": [
       "SynsploreData[\n",
       "  route_data=RouteData[rfeats=(6, 1024), pfeats=(3, 1024), rxnfeats=(3, 70), pidx=(3, 2), ridx=(6, 2), rxnidx=(3, 2)], \n",
       "  pharm_data=PharmData[typeids=(57,), values=(57,), idx=(57, 2)]\n",
       "]"
      ]
     },
     "execution_count": 12,
     "metadata": {},
     "output_type": "execute_result"
    }
   ],
   "source": [
    "dataset[0] + dataset[1] + dataset[100]"
   ]
  },
  {
   "cell_type": "code",
   "execution_count": 14,
   "id": "abbbe1ad",
   "metadata": {},
   "outputs": [],
   "source": [
    "from torch.utils.data import DataLoader\n",
    "\n",
    "loader = DataLoader(dataset, collate_fn=lambda x: sum(x), batch_size=10, shuffle=True)"
   ]
  },
  {
   "cell_type": "code",
   "execution_count": 16,
   "id": "7eb54b5a",
   "metadata": {},
   "outputs": [
    {
     "data": {
      "text/plain": [
       "SynsploreData[\n",
       "  route_data=RouteData[rfeats=(17, 1024), pfeats=(10, 1024), rxnfeats=(10, 70), pidx=(10, 2), ridx=(17, 2), rxnidx=(10, 2)], \n",
       "  pharm_data=PharmData[typeids=(244,), values=(244,), idx=(244, 2)]\n",
       "]"
      ]
     },
     "execution_count": 16,
     "metadata": {},
     "output_type": "execute_result"
    }
   ],
   "source": [
    "next(iter(loader))"
   ]
  },
  {
   "cell_type": "code",
   "execution_count": null,
   "id": "1e812c84",
   "metadata": {},
   "outputs": [],
   "source": []
  }
 ],
 "metadata": {
  "kernelspec": {
   "display_name": "synsplore",
   "language": "python",
   "name": "python3"
  },
  "language_info": {
   "codemirror_mode": {
    "name": "ipython",
    "version": 3
   },
   "file_extension": ".py",
   "mimetype": "text/x-python",
   "name": "python",
   "nbconvert_exporter": "python",
   "pygments_lexer": "ipython3",
   "version": "3.12.9"
  }
 },
 "nbformat": 4,
 "nbformat_minor": 5
}
